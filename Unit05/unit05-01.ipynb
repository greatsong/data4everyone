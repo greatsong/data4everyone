{
  "nbformat": 4,
  "nbformat_minor": 0,
  "metadata": {
    "kernelspec": {
      "display_name": "Python 3",
      "language": "python",
      "name": "python3"
    },
    "language_info": {
      "codemirror_mode": {
        "name": "ipython",
        "version": 3
      },
      "file_extension": ".py",
      "mimetype": "text/x-python",
      "name": "python",
      "nbconvert_exporter": "python",
      "pygments_lexer": "ipython3",
      "version": "3.7.1"
    },
    "colab": {
      "name": "unit05-01.ipynb",
      "provenance": [],
      "include_colab_link": true
    }
  },
  "cells": [
    {
      "cell_type": "markdown",
      "metadata": {
        "id": "view-in-github",
        "colab_type": "text"
      },
      "source": [
        "<a href=\"https://colab.research.google.com/github/greatsong/data4everyone/blob/master/Unit05/unit05-01.ipynb\" target=\"_parent\"><img src=\"https://colab.research.google.com/assets/colab-badge.svg\" alt=\"Open In Colab\"/></a>"
      ]
    },
    {
      "cell_type": "code",
      "metadata": {
        "id": "MgZgoUZZOH_P",
        "colab_type": "code",
        "colab": {}
      },
      "source": [
        "!git clone https://github.com/greatsong/data4everyone"
      ],
      "execution_count": null,
      "outputs": []
    },
    {
      "cell_type": "code",
      "metadata": {
        "id": "XJ2lH3uzOSZF",
        "colab_type": "code",
        "colab": {}
      },
      "source": [
        "ls"
      ],
      "execution_count": null,
      "outputs": []
    },
    {
      "cell_type": "code",
      "metadata": {
        "id": "CnJaQxP6OS05",
        "colab_type": "code",
        "colab": {}
      },
      "source": [
        "cd data4everyone/"
      ],
      "execution_count": null,
      "outputs": []
    },
    {
      "cell_type": "code",
      "metadata": {
        "id": "-xpWC8TkOSWz",
        "colab_type": "code",
        "colab": {}
      },
      "source": [
        "cd Unit05"
      ],
      "execution_count": null,
      "outputs": []
    },
    {
      "cell_type": "code",
      "metadata": {
        "id": "5dVnXHSNPxUq",
        "colab_type": "code",
        "colab": {}
      },
      "source": [
        "ls"
      ],
      "execution_count": null,
      "outputs": []
    },
    {
      "cell_type": "code",
      "metadata": {
        "scrolled": true,
        "id": "muqCX5XDOCrl",
        "colab_type": "code",
        "colab": {}
      },
      "source": [
        "import csv\n",
        "\n",
        "f = open('seoul.csv') #utf8 인코딩된 csv 파일\n",
        "data = csv.reader(f)\n",
        "\n",
        "for row in data :\n",
        "    print(row)"
      ],
      "execution_count": null,
      "outputs": []
    },
    {
      "cell_type": "code",
      "metadata": {
        "id": "Tqv5GymIOCr_",
        "colab_type": "code",
        "colab": {}
      },
      "source": [
        "import csv\n",
        "\n",
        "f = open('seoul.csv')\n",
        "data = csv.reader(f)\n",
        "next(data)\n",
        "\n",
        "for row in data :\n",
        "    print(row[-1])"
      ],
      "execution_count": null,
      "outputs": []
    },
    {
      "cell_type": "code",
      "metadata": {
        "id": "2lFcuHHmOCsJ",
        "colab_type": "code",
        "colab": {}
      },
      "source": [
        "import csv\n",
        "f = open('seoul.csv')\n",
        "data = csv.reader(f)\n",
        "next(data)\n",
        "result = [] # 최고 기온 데이터를 저장할 리스트 생성\n",
        "\n",
        "for row in data :\n",
        "    if row[-1] != '' : # 최고 기온 데이터 값이 존재한다면\n",
        "        result.append(float(row[-1])) # result 리스트에 최고 기온 값 추가\n",
        "print(result)"
      ],
      "execution_count": null,
      "outputs": []
    },
    {
      "cell_type": "code",
      "metadata": {
        "id": "Jp3oWmF3OCsP",
        "colab_type": "code",
        "colab": {}
      },
      "source": [
        "print(len(result))"
      ],
      "execution_count": null,
      "outputs": []
    },
    {
      "cell_type": "code",
      "metadata": {
        "id": "KP65yxUOOCsV",
        "colab_type": "code",
        "colab": {}
      },
      "source": [
        "import csv\n",
        "import matplotlib.pyplot as plt\n",
        "f = open('seoul.csv')\n",
        "data = csv.reader(f)\n",
        "next(data)\n",
        "result = []\n",
        "\n",
        "for row in data :\n",
        "    if row[-1] != '' :\n",
        "        result.append(float(row[-1]))\n",
        "\n",
        "plt.plot(result, 'r') # result 리스트에 저장된 값을 빨간색 그래프로 그리기\n",
        "plt.show() # 그래프 나타내기"
      ],
      "execution_count": null,
      "outputs": []
    },
    {
      "cell_type": "code",
      "metadata": {
        "id": "_jra_04POCsc",
        "colab_type": "code",
        "colab": {}
      },
      "source": [
        "import matplotlib.pyplot as plt\n",
        "# plt.figure(figsize = (10,2))\n",
        "# plt.figure(figsize = (10,2), dpi = 300)\n",
        "plt.plot(result, 'r')\n",
        "plt.show()"
      ],
      "execution_count": null,
      "outputs": []
    },
    {
      "cell_type": "code",
      "metadata": {
        "id": "3bJqXM_uOCsi",
        "colab_type": "code",
        "colab": {}
      },
      "source": [
        "s = 'hello python'\n",
        "print(s)"
      ],
      "execution_count": null,
      "outputs": []
    },
    {
      "cell_type": "code",
      "metadata": {
        "id": "1nHmzDR7OCso",
        "colab_type": "code",
        "colab": {}
      },
      "source": [
        "date = '1907-10-01'\n",
        "print(date.split('-'))"
      ],
      "execution_count": null,
      "outputs": []
    },
    {
      "cell_type": "code",
      "metadata": {
        "id": "7LE39aG7OCst",
        "colab_type": "code",
        "colab": {}
      },
      "source": [
        "print(date.split('-')[0])\n",
        "print(date.split('-')[1])\n",
        "print(date.split('-')[2])"
      ],
      "execution_count": null,
      "outputs": []
    },
    {
      "cell_type": "code",
      "metadata": {
        "scrolled": true,
        "id": "-vbiQgNDOCtA",
        "colab_type": "code",
        "colab": {}
      },
      "source": [
        "import csv\n",
        "\n",
        "f = open('seoul.csv')\n",
        "data = csv.reader(f)\n",
        "next(data)\n",
        "result = []\n",
        "\n",
        "for row in data :\n",
        "    if row[-1] != '' :\n",
        "        if row[0].split('-')[1] == '08' :\n",
        "            result.append(float(row[-1]))\n",
        "\n",
        "import matplotlib.pyplot as plt\n",
        "#plt.figure(dpi = 300)\n",
        "plt.plot(result, 'hotpink')\n",
        "plt.show()"
      ],
      "execution_count": null,
      "outputs": []
    },
    {
      "cell_type": "code",
      "metadata": {
        "id": "YTOgn8iKOCtJ",
        "colab_type": "code",
        "colab": {}
      },
      "source": [
        "import csv\n",
        "\n",
        "f = open('seoul.csv')\n",
        "data = csv.reader(f)\n",
        "next(data)\n",
        "result = []\n",
        "\n",
        "for row in data :\n",
        "    if row[-1] != '' :\n",
        "        if row[0].split('-')[1] == '02' and row[0].split('-')[2] == '14' :\n",
        "            result.append(float(row[-1]))\n",
        "\n",
        "import matplotlib.pyplot as plt\n",
        "#plt.figure(dpi = 300)\n",
        "plt.plot(result, 'hotpink')\n",
        "plt.show()"
      ],
      "execution_count": null,
      "outputs": []
    },
    {
      "cell_type": "code",
      "metadata": {
        "id": "17WqrKrvOCtP",
        "colab_type": "code",
        "colab": {}
      },
      "source": [
        "import csv\n",
        "\n",
        "f = open('seoul.csv')\n",
        "data = csv.reader(f)\n",
        "next(data)\n",
        "high = []\n",
        "low = []\n",
        "\n",
        "for row in data :\n",
        "    if row[-1] != '' and row[-2] != '' :\n",
        "        if row[0].split('-')[1] == '02' and row[0].split('-')[2] == '14' :\n",
        "            high.append(float(row[-1]))\n",
        "            low.append(float(row[-2]))\n",
        "\n",
        "import matplotlib.pyplot as plt\n",
        "#plt.figure(dpi = 300)\n",
        "plt.plot(high, 'hotpink')\n",
        "plt.plot(low, 'skyblue')\n",
        "plt.show()"
      ],
      "execution_count": null,
      "outputs": []
    },
    {
      "cell_type": "code",
      "metadata": {
        "id": "LU9XS1KMOCtc",
        "colab_type": "code",
        "colab": {}
      },
      "source": [
        "import csv\n",
        "\n",
        "f = open('seoul.csv')\n",
        "data = csv.reader(f)\n",
        "next(data)\n",
        "high = []\n",
        "low = []\n",
        "\n",
        "for row in data :\n",
        "    if row[-1] != '' and row[-2] != '' :\n",
        "        if 1983 <= int(row[0].split('-')[0]) :\n",
        "            if row[0].split('-')[1] == '02' and row[0].split('-')[2] == '14' :\n",
        "                high.append(float(row[-1]))\n",
        "                low.append(float(row[-2]))\n",
        "\n",
        "import matplotlib.pyplot as plt\n",
        "#plt.figure(dpi = 300)\n",
        "plt.plot(high, 'hotpink')\n",
        "plt.plot(low, 'skyblue')\n",
        "plt.show()"
      ],
      "execution_count": null,
      "outputs": []
    },
    {
      "cell_type": "code",
      "metadata": {
        "id": "pOpyUQwjRvAp",
        "colab_type": "code",
        "colab": {}
      },
      "source": [
        "#한글 폰트 사용하기\n",
        " \n",
        "!apt -qq -y install fonts-nanum"
      ],
      "execution_count": null,
      "outputs": []
    },
    {
      "cell_type": "code",
      "metadata": {
        "id": "SQlbYnirR3pD",
        "colab_type": "code",
        "colab": {}
      },
      "source": [
        "# 폰트 세팅\n",
        "import matplotlib.pyplot as plt\n",
        "import matplotlib.font_manager as fm\n",
        "\n",
        "fontpath = '/usr/share/fonts/truetype/nanum/NanumGothic.ttf'\n",
        "font = fm.FontProperties(fname=fontpath, size=10)\n",
        "fm._rebuild()"
      ],
      "execution_count": null,
      "outputs": []
    },
    {
      "cell_type": "code",
      "metadata": {
        "id": "RKSH0KraR3r4",
        "colab_type": "code",
        "colab": {}
      },
      "source": [
        "# 위 코드 실행 후 [메뉴] - [런타임] - [런타임 다시 시작] - [예]"
      ],
      "execution_count": null,
      "outputs": []
    },
    {
      "cell_type": "code",
      "metadata": {
        "id": "lQwKiWD7R9k9",
        "colab_type": "code",
        "colab": {}
      },
      "source": [
        "import matplotlib.pyplot as plt\n",
        "plt.rc('font', family='NanumGothic') \n",
        "plt.title('한글 제목')\n",
        "plt.plot([1,2,3,5,4])\n",
        "plt.show()"
      ],
      "execution_count": null,
      "outputs": []
    },
    {
      "cell_type": "code",
      "metadata": {
        "id": "1HDIK_qUOCtg",
        "colab_type": "code",
        "colab": {}
      },
      "source": [
        "import csv\n",
        "\n",
        "f = open('seoul.csv')\n",
        "data = csv.reader(f)\n",
        "next(data)\n",
        "high = []\n",
        "low = []\n",
        "\n",
        "for row in data :\n",
        "    if row[-1] != '' and row[-2] != '' :\n",
        "        if 1983 <= int(row[0].split('-')[0]) :\n",
        "            if row[0].split('-')[1] == '02' and row[0].split('-')[2] == '14' :\n",
        "                high.append(float(row[-1]))\n",
        "                low.append(float(row[-2]))\n",
        "\n",
        "import matplotlib.pyplot as plt\n",
        "#plt.figure(dpi = 300)\n",
        "plt.plot(high, 'hotpink')\n",
        "plt.plot(low, 'skyblue')\n",
        "plt.rc('font', family ='NanumGothic')\n",
        "plt.title('내 생일의 기온 변화 그래프')\n",
        "plt.show()"
      ],
      "execution_count": null,
      "outputs": []
    },
    {
      "cell_type": "code",
      "metadata": {
        "id": "gbnpsbowOCtp",
        "colab_type": "code",
        "colab": {}
      },
      "source": [
        "import csv\n",
        "import matplotlib.pyplot as plt\n",
        "\n",
        "f = open('seoul.csv')\n",
        "data = csv.reader(f)\n",
        "next(data)\n",
        "high = [] # 최고 기온 값을 저장할 리스트 high 생성\n",
        "low = [] # 최저 기온 값을 저장할 리스트 low 생성\n",
        "\n",
        "for row in data :\n",
        "    if row[-1] != '' and row[-2] != '' : # 최고 기온 값과 최저 기온 값이 존재한다면\n",
        "        date = row[0].split('-') # 날짜 값을 – 문자를 기준으로 구분하여 저장\n",
        "        if 1983 <= int(date[0]) : # 1983년 이후 데이터라면\n",
        "            if date[1] == '02' and date[2] == '14' : # 2월 14일이라면\n",
        "                high.append(float(row[-1])) # 최고 기온 값을 high 리스트에 저장\n",
        "                low.append(float(row[-2])) # 최저 기온 값을 low 리스트에 저장\n",
        "\n",
        "plt.rc('font', family = 'NanumGothic') # 나눔 고딕을 기본 글꼴로 설정\n",
        "plt.rcParams['axes.unicode_minus'] = False # 마이너스 기호 깨짐 방지\n",
        "plt.title('내 생일의 기온 변화 그래프') # 제목 설정\n",
        "plt.plot(high, 'hotpink', label = 'high') # high 리스트에 저장된 값을 hotpink 색으로 그리고 레이블을 표시\n",
        "plt.plot(low, 'skyblue', label = 'low') # low 리스트에 저장된 값을 skyblue 색으로 그리고 레이블을 표시\n",
        "plt.legend() # 범례 표시\n",
        "plt.show() # 그래프 나타내기"
      ],
      "execution_count": null,
      "outputs": []
    }
  ]
}